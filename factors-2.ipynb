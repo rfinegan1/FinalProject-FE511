{
 "cells": [
  {
   "cell_type": "markdown",
   "metadata": {},
   "source": [
    "# Objective (shortened)"
   ]
  },
  {
   "cell_type": "raw",
   "metadata": {},
   "source": [
    "This model will be looking at factors such as value, size, and momentum. \n",
    "1. small cap, p/b <= 5, return > 0 (every year) \n",
    "2. large cap, p/b <= 5, return > 0 (every year) \n",
    "3. small cap, p/b > 5, return > 0 (every year) \n",
    "4. large cap, p/b > 5, return > 0 (every year) \n",
    "\n",
    "Check without Momentum\n",
    "\n",
    "Findings => HML, SMB, UMD is the best performing portfolio for this time period by far"
   ]
  },
  {
   "cell_type": "markdown",
   "metadata": {},
   "source": [
    "# Libraries"
   ]
  },
  {
   "cell_type": "code",
   "execution_count": 1,
   "metadata": {},
   "outputs": [],
   "source": [
    "import pandas as pd \n",
    "import datetime as dt \n",
    "import pandas_datareader.data as web\n",
    "import numpy as np"
   ]
  },
  {
   "cell_type": "markdown",
   "metadata": {},
   "source": [
    "# Data Cleaning Function"
   ]
  },
  {
   "cell_type": "code",
   "execution_count": 115,
   "metadata": {},
   "outputs": [],
   "source": [
    "#function for cleaning data\n",
    "def data(excel):\n",
    "    excel['Ticker'] = excel.Ticker.str.split(' ').str[0]\n",
    "    return excel[['Ticker','Market Cap','P/B']]\n",
    "\n",
    "#creating the databases for the 4 screener excel sheets\n",
    "sm_val,lg_val = data(pd.read_excel('factors.xlsx',sheet_name=\"sm_val_mom\")),data(pd.read_excel('factors.xlsx',sheet_name=\"lg_val_mom\"))\n",
    "sm_gro,lg_gro = data(pd.read_excel('factors.xlsx',sheet_name=\"sm_growth_mom\")),data(pd.read_excel('factors.xlsx',sheet_name=\"lg_growth_mom\"))"
   ]
  },
  {
   "cell_type": "markdown",
   "metadata": {},
   "source": [
    "# Adj Close Price Query  / Average Return Over Two Years Function"
   ]
  },
  {
   "cell_type": "code",
   "execution_count": 107,
   "metadata": {},
   "outputs": [],
   "source": [
    "#queries all the returns for the 2 years from 2017 to 2019 based on size, value, and momentum\n",
    "def total_returns(df):\n",
    "    failed = [] #failed list\n",
    "    passed = [] #passed list\n",
    "    data = pd.DataFrame() #create a dataframe for the loop\n",
    "    for ticker in df['Ticker'].values: #loop through all the tickers \n",
    "        try: #try clause\n",
    "            data[ticker] = web.DataReader(ticker, \"yahoo\", '2017-01-01', '2019-01-01')[\"Adj Close\"] #2 year tick price data\n",
    "            passed.append(ticker) #append passed tickers to the list\n",
    "        except (IOError, KeyError): #error\n",
    "            failed.append(ticker) #failed tickers\n",
    "    return data, (((data.pct_change()*100).sum())/2).mean(),passed,failed #average two yearly return of all found securities in the database"
   ]
  },
  {
   "cell_type": "code",
   "execution_count": 96,
   "metadata": {},
   "outputs": [],
   "source": [
    "#wound up saving each query to an excel within this directory to save time (each query took a while due to high number of securities)"
   ]
  },
  {
   "cell_type": "markdown",
   "metadata": {},
   "source": [
    "# Yearly Return of Each Portfolio"
   ]
  },
  {
   "cell_type": "code",
   "execution_count": 92,
   "metadata": {},
   "outputs": [],
   "source": [
    "def yearly_return(df):\n",
    "    #average yearly return of each portfolio\n",
    "    return (((df.pct_change(len(df)-1).iloc[-1]).mean())/2)*100"
   ]
  },
  {
   "cell_type": "code",
   "execution_count": 93,
   "metadata": {},
   "outputs": [],
   "source": [
    "sm_val = yearly_return(pd.read_excel('small_value_momentum.xlsx').set_index('Date'))\n",
    "lg_val = yearly_return(pd.read_excel('large_value_momentum.xlsx').set_index('Date'))\n",
    "sm_gro = yearly_return(pd.read_excel('small_growth_momentum.xlsx').set_index('Date'))\n",
    "lg_gro = yearly_return(pd.read_excel('large_growth_momentum.xlsx').set_index('Date'))\n",
    "sp500 = yearly_return(web.DataReader('^GSPC','yahoo','2017-01-01', '2019-01-01')[\"Adj Close\"])"
   ]
  },
  {
   "cell_type": "code",
   "execution_count": 106,
   "metadata": {},
   "outputs": [
    {
     "name": "stdout",
     "output_type": "stream",
     "text": [
      "Small Cap, Value, Momentum:21.747149669781376%\n",
      "Large, Value, Momentum: 2.9896943716334445%\n",
      "Small, Growth, Momentum 12.585663424911111%\n",
      "Large, Growth, Momentum: 11.746914336649999%\n",
      "Benchmark: 5.514587256673609%\n"
     ]
    }
   ],
   "source": [
    "print(f'''Small Cap, Value, Momentum:{sm_val}%\n",
    "Large, Value, Momentum: {lg_val}%\n",
    "Small, Growth, Momentum {sm_gro}%\n",
    "Large, Growth, Momentum: {lg_gro}%\n",
    "Benchmark: {sp500}%''')"
   ]
  },
  {
   "cell_type": "markdown",
   "metadata": {},
   "source": [
    "# Check Without Momentum"
   ]
  },
  {
   "cell_type": "code",
   "execution_count": 116,
   "metadata": {},
   "outputs": [],
   "source": [
    "smval = data(pd.read_excel('data_three_factor.xlsx',sheet_name=\"sm_value\"))\n",
    "lgval = data(pd.read_excel('data_three_factor.xlsx',sheet_name=\"lg_val\"))\n",
    "lggro = data(pd.read_excel('data_three_factor.xlsx',sheet_name=\"lg_gro\"))\n",
    "smgro = data(pd.read_excel('data_three_factor.xlsx',sheet_name=\"sm_gro\"))"
   ]
  },
  {
   "cell_type": "code",
   "execution_count": 119,
   "metadata": {},
   "outputs": [],
   "source": [
    "one = total_returns(smval)\n",
    "two = total_returns(lgval)\n",
    "three = total_returns(lggro)\n",
    "four = total_returns(smgro)"
   ]
  },
  {
   "cell_type": "code",
   "execution_count": 122,
   "metadata": {},
   "outputs": [],
   "source": [
    "norm_smval = yearly_return(one[0])\n",
    "norm_lgval = yearly_return(two[0])\n",
    "norm_lggro = yearly_return(three[0])\n",
    "norm_smgro = yearly_return(four[0])"
   ]
  },
  {
   "cell_type": "code",
   "execution_count": 127,
   "metadata": {},
   "outputs": [
    {
     "name": "stdout",
     "output_type": "stream",
     "text": [
      "Small Cap, Value:7.711328405806696%\n",
      "Large, Value: 2.9016630550295206%\n",
      "Small, Growth: 12.748179184542053%\n",
      "Large, Growth: 11.958615232932287%\n",
      "Benchmark: 5.514587256673609%\n"
     ]
    }
   ],
   "source": [
    "print(f'''Small Cap, Value:{norm_smval}%\n",
    "Large, Value: {norm_lgval}%\n",
    "Small, Growth: {norm_smgro}%\n",
    "Large, Growth: {norm_lggro}%\n",
    "Benchmark: {sp500}%''')"
   ]
  }
 ],
 "metadata": {
  "kernelspec": {
   "display_name": "Python 3",
   "language": "python",
   "name": "python3"
  },
  "language_info": {
   "codemirror_mode": {
    "name": "ipython",
    "version": 3
   },
   "file_extension": ".py",
   "mimetype": "text/x-python",
   "name": "python",
   "nbconvert_exporter": "python",
   "pygments_lexer": "ipython3",
   "version": "3.7.4"
  }
 },
 "nbformat": 4,
 "nbformat_minor": 2
}
